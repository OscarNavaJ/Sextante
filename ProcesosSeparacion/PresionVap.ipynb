{
 "cells": [
  {
   "cell_type": "code",
   "execution_count": 2,
   "metadata": {},
   "outputs": [],
   "source": [
    "\n",
    "import sympy as sp\n",
    "import numpy as np\n",
    "import pandas as pd\n",
    "import pint\n",
    "u = pint.UnitRegistry()\n",
    "Q= u.Quantity\n",
    "import scipy.constants as cnst\n",
    "import scipy\n",
    "\n",
    "from matplotlib import pyplot as plt \n",
    "from sympy.interactive import printing\n",
    "sp.init_printing(use_latex=True) # doctest: +SKIP\n",
    "\n",
    "from IPython.display import HTML\n",
    "from iapws import IAPWS97\n",
    "\n",
    "from libreria.Funciones import *"
   ]
  },
  {
   "cell_type": "code",
   "execution_count": 84,
   "metadata": {},
   "outputs": [],
   "source": [
    "Hex=pd.read_clipboard(header=None)\n"
   ]
  },
  {
   "cell_type": "code",
   "execution_count": 72,
   "metadata": {},
   "outputs": [
    {
     "data": {
      "text/html": [
       "98.50246470350936 degC"
      ],
      "text/latex": [
       "$98.50246470350936\\ \\mathrm{degC}$"
      ],
      "text/plain": [
       "98.50246470350936 <Unit('degC')>"
      ]
     },
     "metadata": {},
     "output_type": "display_data"
    },
    {
     "data": {
      "text/html": [
       "102.48727808745338 degC"
      ],
      "text/latex": [
       "$102.48727808745338\\ \\mathrm{degC}$"
      ],
      "text/plain": [
       "102.48727808745338 <Unit('degC')>"
      ]
     },
     "metadata": {},
     "output_type": "display_data"
    }
   ],
   "source": [
    "Especies=[Eth,Pro,iBut,nBut,Pen,Pen]\n",
    "composiciones=[0.00001,0.015,0.515,0.432,0.0376,0.0001]\n",
    "PresionSistema=Q(250,\"psi\")\n",
    "\n",
    "Inicial=(Especies,composiciones,PresionSistema)\n",
    "\n",
    "Burbuja=scipy.optimize.root_scalar(Funcion_Caracteristica_Burbuja,Inicial,bracket=[1,1000])\n",
    "Burbuja= Q(Burbuja.root,\"K\").to(\"degC\")\n",
    "Rocio= scipy.optimize.root_scalar(Funcion_Caracteristica_Rocio,Inicial,bracket=[1,1000])\n",
    "Rocio=Q(Rocio.root,\"K\").to(\"degC\")\n",
    "\n",
    "display(Burbuja,Rocio)"
   ]
  },
  {
   "cell_type": "code",
   "execution_count": null,
   "metadata": {},
   "outputs": [],
   "source": [
    "x=np.linspace(0.01,0.99,100)\n",
    "PresionSistema=Q(10,\"atm\")\n",
    "Rocios=np.array([])\n",
    "Burbujas=np.array([])\n",
    "\n",
    "\n",
    "for i in x:\n",
    "    composiciones=[1-i,i]\n",
    "    Inicial=(composiciones,PresionSistema)\n",
    "    Burbuja=scipy.optimize.root_scalar(Funcion_Caracteristica_Burbuja,Inicial,bracket=[1,1000])\n",
    "    Burbuja= Q(Burbuja.root,\"K\").to(\"degC\")\n",
    "    Burbujas=np.append(Burbujas,Burbuja.magnitude)\n",
    "    Rocio= scipy.optimize.root_scalar(Funcion_Caracteristica_Rocio,Inicial,bracket=[1,1000])\n",
    "    Rocio=Q(Rocio.root,\"K\").to(\"degC\")\n",
    "    Rocios=np.append(Rocios,Rocio.magnitude)\n",
    "    \n",
    "  \n",
    "\n",
    "\n",
    "\n"
   ]
  },
  {
   "cell_type": "code",
   "execution_count": 105,
   "metadata": {},
   "outputs": [
    {
     "data": {
      "text/html": [
       "0.30048232751725135 dimensionless"
      ],
      "text/latex": [
       "$0.30048232751725135\\ dimensionless$"
      ],
      "text/plain": [
       "0.30048232751725135 <Unit('dimensionless')>"
      ]
     },
     "execution_count": 105,
     "metadata": {},
     "output_type": "execute_result"
    }
   ],
   "source": [
    "Presion_Vapor(Pen,273.15+102.5)/Presion_Vapor(iBut,273.15+102.5)"
   ]
  },
  {
   "cell_type": "code",
   "execution_count": null,
   "metadata": {},
   "outputs": [],
   "source": []
  }
 ],
 "metadata": {
  "kernelspec": {
   "display_name": "Python 3",
   "language": "python",
   "name": "python3"
  },
  "language_info": {
   "codemirror_mode": {
    "name": "ipython",
    "version": 3
   },
   "file_extension": ".py",
   "mimetype": "text/x-python",
   "name": "python",
   "nbconvert_exporter": "python",
   "pygments_lexer": "ipython3",
   "version": "3.7.3"
  }
 },
 "nbformat": 4,
 "nbformat_minor": 4
}
