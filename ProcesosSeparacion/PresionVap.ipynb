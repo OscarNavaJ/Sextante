{
 "cells": [
  {
   "cell_type": "markdown",
   "metadata": {
    "collapsed": "true"
   },
   "source": [
    "# Librería"
   ]
  },
  {
   "cell_type": "code",
   "execution_count": 7,
   "metadata": {},
   "outputs": [],
   "source": [
    "\n",
    "import sympy as sp\n",
    "import numpy as np\n",
    "import pandas as pd\n",
    "import pint\n",
    "u = pint.UnitRegistry()\n",
    "Q= u.Quantity\n",
    "import scipy.constants as cnst\n",
    "from scipy import optimize\n",
    "import scipy\n",
    "\n",
    "from matplotlib import pyplot as plt \n",
    "from sympy.interactive import printing\n",
    "sp.init_printing(use_latex=True) # doctest: +SKIP\n",
    "\n",
    "from IPython.display import HTML\n",
    "#from iapws import IAPWS97\n",
    "\n",
    "from libreria.Funciones import *"
   ]
  },
  {
   "cell_type": "markdown",
   "metadata": {
    "collapsed": "true"
   },
   "source": [
    "# Presión de vapor"
   ]
  },
  {
   "cell_type": "markdown",
   "metadata": {
    "collapsed": "true"
   },
   "source": [
    "## Funciones"
   ]
  },
  {
   "cell_type": "markdown",
   "metadata": {},
   "source": [
    "Usar read clipboard para pasar el portapapeles a un dataframe de pandas"
   ]
  },
  {
   "cell_type": "code",
   "execution_count": 6,
   "metadata": {},
   "outputs": [
    {
     "data": {
      "text/html": [
       "<div>\n",
       "<style scoped>\n",
       "    .dataframe tbody tr th:only-of-type {\n",
       "        vertical-align: middle;\n",
       "    }\n",
       "\n",
       "    .dataframe tbody tr th {\n",
       "        vertical-align: top;\n",
       "    }\n",
       "\n",
       "    .dataframe thead th {\n",
       "        text-align: right;\n",
       "    }\n",
       "</style>\n",
       "<table border=\"1\" class=\"dataframe\">\n",
       "  <thead>\n",
       "    <tr style=\"text-align: right;\">\n",
       "      <th></th>\n",
       "      <th>0</th>\n",
       "      <th>1</th>\n",
       "      <th>2</th>\n",
       "      <th>3</th>\n",
       "      <th>4</th>\n",
       "    </tr>\n",
       "  </thead>\n",
       "  <tbody>\n",
       "    <tr>\n",
       "      <th>0</th>\n",
       "      <td>C:\\Users\\Óscar</td>\n",
       "      <td>Nava\\Documents\\Sexto</td>\n",
       "      <td>Semestre\\Procesos</td>\n",
       "      <td>de</td>\n",
       "      <td>Separación\\Examen4</td>\n",
       "    </tr>\n",
       "  </tbody>\n",
       "</table>\n",
       "</div>"
      ],
      "text/plain": [
       "                0                     1                  2   3  \\\n",
       "0  C:\\Users\\Óscar  Nava\\Documents\\Sexto  Semestre\\Procesos  de   \n",
       "\n",
       "                    4  \n",
       "0  Separación\\Examen4  "
      ]
     },
     "execution_count": 6,
     "metadata": {},
     "output_type": "execute_result"
    }
   ],
   "source": [
    "Hex=pd.read_clipboard(header=None)\n",
    "Hex"
   ]
  },
  {
   "cell_type": "markdown",
   "metadata": {
    "collapsed": "true"
   },
   "source": [
    "## Definiciones"
   ]
  },
  {
   "cell_type": "code",
   "execution_count": 14,
   "metadata": {
    "collapsed": true,
    "jupyter": {
     "outputs_hidden": true
    }
   },
   "outputs": [
    {
     "ename": "NameError",
     "evalue": "name 'Met' is not defined",
     "output_type": "error",
     "traceback": [
      "\u001b[1;31m---------------------------------------------------------------------------\u001b[0m",
      "\u001b[1;31mNameError\u001b[0m                                 Traceback (most recent call last)",
      "\u001b[1;32m<ipython-input-14-94b0d940afb0>\u001b[0m in \u001b[0;36m<module>\u001b[1;34m\u001b[0m\n\u001b[1;32m----> 1\u001b[1;33m \u001b[0mEspecies\u001b[0m\u001b[1;33m=\u001b[0m\u001b[1;33m[\u001b[0m\u001b[0mMet\u001b[0m\u001b[1;33m,\u001b[0m\u001b[0mEth\u001b[0m\u001b[1;33m,\u001b[0m\u001b[0mPro\u001b[0m\u001b[1;33m,\u001b[0m\u001b[0mBut\u001b[0m\u001b[1;33m,\u001b[0m\u001b[0mPen\u001b[0m\u001b[1;33m,\u001b[0m\u001b[0mHex\u001b[0m\u001b[1;33m]\u001b[0m\u001b[1;33m\u001b[0m\u001b[1;33m\u001b[0m\u001b[0m\n\u001b[0m\u001b[0;32m      2\u001b[0m \u001b[0mcomposiciones\u001b[0m\u001b[1;33m=\u001b[0m\u001b[1;33m[\u001b[0m\u001b[1;36m0.03\u001b[0m\u001b[1;33m,\u001b[0m\u001b[1;36m0.07\u001b[0m\u001b[1;33m,\u001b[0m\u001b[1;36m0.15\u001b[0m\u001b[1;33m,\u001b[0m\u001b[1;36m0.33\u001b[0m\u001b[1;33m,\u001b[0m\u001b[1;36m0.3\u001b[0m\u001b[1;33m,\u001b[0m\u001b[1;36m0.12\u001b[0m\u001b[1;33m]\u001b[0m\u001b[1;33m\u001b[0m\u001b[1;33m\u001b[0m\u001b[0m\n\u001b[0;32m      3\u001b[0m \u001b[1;31m#composiciones=[0.0789,0.184,0.3861,0.3431,0.0079,0.000001]\u001b[0m\u001b[1;33m\u001b[0m\u001b[1;33m\u001b[0m\u001b[1;33m\u001b[0m\u001b[0m\n\u001b[0;32m      4\u001b[0m \u001b[1;31m#composiciones=[.000001,.000001,0.00484,0.3219,0.4795,0.1937]\u001b[0m\u001b[1;33m\u001b[0m\u001b[1;33m\u001b[0m\u001b[1;33m\u001b[0m\u001b[0m\n\u001b[0;32m      5\u001b[0m \u001b[0mPresionSistema\u001b[0m\u001b[1;33m=\u001b[0m\u001b[0mQ\u001b[0m\u001b[1;33m(\u001b[0m\u001b[1;36m1035\u001b[0m\u001b[1;33m,\u001b[0m\u001b[1;34m\"kN/m**2\"\u001b[0m\u001b[1;33m)\u001b[0m\u001b[1;33m\u001b[0m\u001b[1;33m\u001b[0m\u001b[0m\n",
      "\u001b[1;31mNameError\u001b[0m: name 'Met' is not defined"
     ]
    }
   ],
   "source": [
    "Especies=[Met,Eth,Pro,But,Pen,Hex]\n",
    "composiciones=[0.03,0.07,0.15,0.33,0.3,0.12]\n",
    "#composiciones=[0.0789,0.184,0.3861,0.3431,0.0079,0.000001]\n",
    "#composiciones=[.000001,.000001,0.00484,0.3219,0.4795,0.1937]\n",
    "PresionSistema=Q(1035,\"kN/m**2\")\n",
    "print(PresionSistema.to(\"bar\"))\n",
    "Inicial=(Especies,composiciones,PresionSistema)\n",
    "\n",
    "Burbuja=scipy.optimize.root_scalar(Funcion_Caracteristica_Burbuja,Inicial,bracket=[1,1000])\n",
    "Burbuja= Q(Burbuja.root,\"K\").to(\"degC\")\n",
    "Rocio= scipy.optimize.root_scalar(Funcion_Caracteristica_Rocio,Inicial,bracket=[1,1000])\n",
    "Rocio=Q(Rocio.root,\"K\").to(\"degC\")\n",
    "\n",
    "display(Burbuja,Rocio)"
   ]
  },
  {
   "cell_type": "code",
   "execution_count": null,
   "metadata": {},
   "outputs": [],
   "source": [
    "x=np.linspace(0.01,0.99,100)\n",
    "PresionSistema=Q(10,\"atm\")\n",
    "Rocios=np.array([])\n",
    "Burbujas=np.array([])\n",
    "\n",
    "\n",
    "for i in x:\n",
    "    composiciones=[1-i,i]\n",
    "    Inicial=(composiciones,PresionSistema)\n",
    "    Burbuja=scipy.optimize.root_scalar(Funcion_Caracteristica_Burbuja,Inicial,bracket=[1,1000])\n",
    "    Burbuja= Q(Burbuja.root,\"K\").to(\"degC\")\n",
    "    Burbujas=np.append(Burbujas,Burbuja.magnitude)\n",
    "    Rocio= scipy.optimize.root_scalar(Funcion_Caracteristica_Rocio,Inicial,bracket=[1,1000])\n",
    "    Rocio=Q(Rocio.root,\"K\").to(\"degC\")\n",
    "    Rocios=np.append(Rocios,Rocio.magnitude)\n",
    "    \n",
    "\n",
    "\n",
    "\n",
    "\n"
   ]
  },
  {
   "cell_type": "code",
   "execution_count": 244,
   "metadata": {},
   "outputs": [
    {
     "data": {
      "text/html": [
       "209.2853046009052 dimensionless"
      ],
      "text/latex": [
       "$209.2853046009052\\ dimensionless$"
      ],
      "text/plain": [
       "209.2853046009052 <Unit('dimensionless')>"
      ]
     },
     "execution_count": 244,
     "metadata": {},
     "output_type": "execute_result"
    }
   ],
   "source": [
    "(Presion_Vapor(Met,273.15+82)/Q(10.35,\"atm\")).to(\"\")"
   ]
  },
  {
   "cell_type": "code",
   "execution_count": 93,
   "metadata": {},
   "outputs": [],
   "source": [
    "class molecula:\n",
    "    peon= \"peon\"\n",
    "    def __init__(self,nombre,x,y):\n",
    "        \"\"\"Nombre, Posición inicial x, Posición inical y\"\"\"\n",
    "        self.nombre=nombre\n",
    "        self.x=x\n",
    "        self.y=y\n",
    "    def mover(self):\n",
    "        self.x +=  (np.random.random()-np.random.random())*100\n",
    "    "
   ]
  },
  {
   "cell_type": "markdown",
   "metadata": {},
   "source": [
    "# Extras"
   ]
  },
  {
   "cell_type": "code",
   "execution_count": 94,
   "metadata": {},
   "outputs": [],
   "source": [
    "molecula1= molecula(\"Molecula A\",0,0)\n",
    "molecula2= molecula(\"Molecula B\",0,0)"
   ]
  },
  {
   "cell_type": "code",
   "execution_count": 95,
   "metadata": {},
   "outputs": [],
   "source": [
    "posiciones=[]\n",
    "posiciones2=[ ]\n",
    "tiempo=np.arange(10000)\n",
    "\n",
    "for i in tiempo:\n",
    "    molecula1.mover()\n",
    "    molecula2.mover()\n",
    "    posiciones.append(molecula1.x)\n",
    "    posiciones2.append(molecula2.x)\n",
    "\n"
   ]
  },
  {
   "cell_type": "code",
   "execution_count": 96,
   "metadata": {},
   "outputs": [
    {
     "data": {
      "image/png": "[encoded data removed]",
      "text/plain": [
       "<Figure size 432x288 with 1 Axes>"
      ]
     },
     "metadata": {
      "needs_background": "light"
     },
     "output_type": "display_data"
    }
   ],
   "source": [
    "plt.plot(tiempo, posiciones)\n",
    "plt.plot(tiempo, posiciones2)\n",
    "plt.show()\n"
   ]
  },
  {
   "cell_type": "code",
   "execution_count": 97,
   "metadata": {},
   "outputs": [
    {
     "data": {
      "text/plain": [
       "matrix([[ 0,  0,  0,  0,  0,  0,  0,  0,  0,  0],\n",
       "        [ 0,  1,  0,  0,  0,  0,  0,  0,  0,  0],\n",
       "        [ 0,  0,  4,  0,  0,  0,  0,  0,  0,  0],\n",
       "        [ 0,  0,  0,  9,  0,  0,  0,  0,  0,  0],\n",
       "        [ 0,  0,  0,  0, 16,  0,  0,  0,  0,  0],\n",
       "        [ 0,  0,  0,  0,  0, 25,  0,  0,  0,  0],\n",
       "        [ 0,  0,  0,  0,  0,  0, 36,  0,  0,  0],\n",
       "        [ 0,  0,  0,  0,  0,  0,  0, 49,  0,  0],\n",
       "        [ 0,  0,  0,  0,  0,  0,  0,  0, 64,  0],\n",
       "        [ 0,  0,  0,  0,  0,  0,  0,  0,  0, 81]])"
      ]
     },
     "execution_count": 97,
     "metadata": {},
     "output_type": "execute_result"
    }
   ],
   "source": [
    "m= [[i*j if i == j else 0 for i in range(0,10)] for j in range(0,10)]\n",
    "np.matrix(m)"
   ]
  }
 ],
 "metadata": {
  "kernelspec": {
   "display_name": "Python 3",
   "language": "python",
   "name": "python3"
  },
  "language_info": {
   "codemirror_mode": {
    "name": "ipython",
    "version": 3
   },
   "file_extension": ".py",
   "mimetype": "text/x-python",
   "name": "python",
   "nbconvert_exporter": "python",
   "pygments_lexer": "ipython3",
   "version": "3.7.3"
  }
 },
 "nbformat": 4,
 "nbformat_minor": 4
}
