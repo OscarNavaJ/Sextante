{
 "cells": [
  {
   "cell_type": "code",
   "execution_count": 15,
   "metadata": {},
   "outputs": [
    {
     "ename": "ModuleNotFoundError",
     "evalue": "No module named 'Funciones'",
     "output_type": "error",
     "traceback": [
      "\u001b[1;31m---------------------------------------------------------------------------\u001b[0m",
      "\u001b[1;31mModuleNotFoundError\u001b[0m                       Traceback (most recent call last)",
      "\u001b[1;32m<ipython-input-15-02c009d44440>\u001b[0m in \u001b[0;36m<module>\u001b[1;34m\u001b[0m\n\u001b[0;32m     15\u001b[0m \u001b[1;32mfrom\u001b[0m \u001b[0miapws\u001b[0m \u001b[1;32mimport\u001b[0m \u001b[0mIAPWS97\u001b[0m\u001b[1;33m\u001b[0m\u001b[1;33m\u001b[0m\u001b[0m\n\u001b[0;32m     16\u001b[0m \u001b[1;33m\u001b[0m\u001b[0m\n\u001b[1;32m---> 17\u001b[1;33m \u001b[1;32mimport\u001b[0m \u001b[0mFunciones\u001b[0m\u001b[1;33m\u001b[0m\u001b[1;33m\u001b[0m\u001b[0m\n\u001b[0m",
      "\u001b[1;31mModuleNotFoundError\u001b[0m: No module named 'Funciones'"
     ]
    }
   ],
   "source": [
    "\n",
    "import sympy as sp\n",
    "import numpy as np\n",
    "import pandas as pd\n",
    "import pint\n",
    "u = pint.UnitRegistry()\n",
    "Q= u.Quantity\n",
    "import scipy.constants as cnst\n",
    "import scipy\n",
    "\n",
    "from matplotlib import pyplot as plt \n",
    "from sympy.interactive import printing\n",
    "sp.init_printing(use_latex=True) # doctest: +SKIP\n",
    "\n",
    "from IPython.display import HTML\n",
    "from iapws import IAPWS97\n",
    "\n",
    "import Funciones"
   ]
  },
  {
   "cell_type": "code",
   "execution_count": 155,
   "metadata": {},
   "outputs": [
    {
     "data": {
      "text/html": [
       "<div>\n",
       "<style scoped>\n",
       "    .dataframe tbody tr th:only-of-type {\n",
       "        vertical-align: middle;\n",
       "    }\n",
       "\n",
       "    .dataframe tbody tr th {\n",
       "        vertical-align: top;\n",
       "    }\n",
       "\n",
       "    .dataframe thead th {\n",
       "        text-align: right;\n",
       "    }\n",
       "</style>\n",
       "<table border=\"1\" class=\"dataframe\">\n",
       "  <thead>\n",
       "    <tr style=\"text-align: right;\">\n",
       "      <th></th>\n",
       "      <th>0</th>\n",
       "      <th>1</th>\n",
       "      <th>2</th>\n",
       "      <th>3</th>\n",
       "      <th>4</th>\n",
       "      <th>5</th>\n",
       "      <th>6</th>\n",
       "      <th>7</th>\n",
       "      <th>8</th>\n",
       "      <th>9</th>\n",
       "      <th>10</th>\n",
       "      <th>11</th>\n",
       "      <th>12</th>\n",
       "    </tr>\n",
       "  </thead>\n",
       "  <tbody>\n",
       "    <tr>\n",
       "      <th>0</th>\n",
       "      <td>342</td>\n",
       "      <td>Water</td>\n",
       "      <td>H2O</td>\n",
       "      <td>7732-18-5</td>\n",
       "      <td>73.649</td>\n",
       "      <td>−7,258.2</td>\n",
       "      <td>−7.3037</td>\n",
       "      <td>4.1653E−06</td>\n",
       "      <td>2</td>\n",
       "      <td>273.16</td>\n",
       "      <td>611.0</td>\n",
       "      <td>647.096</td>\n",
       "      <td>21930000.0</td>\n",
       "    </tr>\n",
       "  </tbody>\n",
       "</table>\n",
       "</div>"
      ],
      "text/plain": [
       "    0      1    2          3       4         5        6           7   8   \\\n",
       "0  342  Water  H2O  7732-18-5  73.649  −7,258.2  −7.3037  4.1653E−06   2   \n",
       "\n",
       "       9      10       11          12  \n",
       "0  273.16  611.0  647.096  21930000.0  "
      ]
     },
     "execution_count": 155,
     "metadata": {},
     "output_type": "execute_result"
    }
   ],
   "source": [
    "Et=pd.read_clipboard(header=None)\n",
    "\n",
    "Wat\n",
    "Wat[7][0]"
   ]
  },
  {
   "cell_type": "code",
   "execution_count": 169,
   "metadata": {},
   "outputs": [],
   "source": [
    "def Presion_Vapor(Sustancia,T):\n",
    "    C1=Sustancia[4][0]\n",
    "    C2=float(Sustancia[5][0].replace(u\",\", \"\").replace(u\"\\u2212\", \"-\"))\n",
    "    C3=float(Sustancia[6][0].replace(u\"\\u2212\", \"-\"))\n",
    "    if(type(Sustancia[7][0])==str):\n",
    "        C4= float(Sustancia[7][0].replace(u\"\\u2212\", \"-\"))\n",
    "    else:\n",
    "        C4=Sustancia[7][0]\n",
    "    C5=Sustancia[8][0]\n",
    "\n",
    "    Pvap=Q(np.exp(C1 + C2/T + C3*np.log(T) + C4*T**C5),\"Pa\")\n",
    "    return(Pvap)\n",
    "\n",
    "    "
   ]
  },
  {
   "cell_type": "code",
   "execution_count": 241,
   "metadata": {},
   "outputs": [],
   "source": [
    "def Funcion_Caracteristica_Burbuja (T,Composiciones,PresionSistema):#DatosIniciales):\n",
    "    #Composiciones,PresionSistema= DatosIniciales\n",
    "    zA,zB = Composiciones#,zC,zD,zE=Composiciones\n",
    "    P1=zA*Presion_Vapor(Wat,T)\n",
    "    P2=zB*Presion_Vapor(Et,T)\n",
    "    #P3=zC*Presion_Vapor(Pro,T)\n",
    "    #P4=zD*Presion_Vapor(But,T)\n",
    "    #P5=zE*Presion_Vapor(Pen,T)\n",
    "    return((P1+P2-PresionSistema).to(\"Pa\").magnitude)\n",
    "\n",
    "def Funcion_Caracteristica_Rocio (T,Composiciones,PresionSistema):#DatosIniciales):\n",
    "    #Composiciones,PresionSistema= DatosIniciales\n",
    "    zA,zB=Composiciones #,zC,zD,zE=Composiciones\n",
    "    P1=zA/Presion_Vapor(Wat,T)\n",
    "    P2=zB/Presion_Vapor(Et,T)\n",
    "    #P3=zC/Presion_Vapor(Pro,T)\n",
    "    #P4=zD/Presion_Vapor(But,T)\n",
    "    #P5=zE/Presion_Vapor(Pen,T)\n",
    "    return(((PresionSistema*(P1+P2)-1)).magnitude)\n"
   ]
  },
  {
   "cell_type": "code",
   "execution_count": 242,
   "metadata": {},
   "outputs": [
    {
     "name": "stderr",
     "output_type": "stream",
     "text": [
      "C:\\ProgramData\\Anaconda3\\lib\\site-packages\\pint\\quantity.py:925: RuntimeWarning: divide by zero encountered in double_scalars\n",
      "  return self.__class__(other_magnitude / self._magnitude, 1 / self._units)\n"
     ]
    },
    {
     "data": {
      "text/html": [
       "86.85588731385275 degC"
      ],
      "text/latex": [
       "$86.85588731385275\\ \\mathrm{degC}$"
      ],
      "text/plain": [
       "86.85588731385275 <Unit('degC')>"
      ]
     },
     "metadata": {},
     "output_type": "display_data"
    },
    {
     "data": {
      "text/html": [
       "91.15149290990024 degC"
      ],
      "text/latex": [
       "$91.15149290990024\\ \\mathrm{degC}$"
      ],
      "text/plain": [
       "91.15149290990024 <Unit('degC')>"
      ]
     },
     "metadata": {},
     "output_type": "display_data"
    }
   ],
   "source": [
    "composiciones=[0.5,0.5]\n",
    "PresionSistema=Q(1,\"atm\")\n",
    "Inicial=(composiciones,PresionSistema)\n",
    "\n",
    "Burbuja=scipy.optimize.root_scalar(Funcion_Caracteristica_Burbuja,Inicial,bracket=[1,1000])\n",
    "Burbuja= Q(Burbuja.root,\"K\").to(\"degC\")\n",
    "Rocio= scipy.optimize.root_scalar(Funcion_Caracteristica_Rocio,Inicial,bracket=[1,1000])\n",
    "Rocio=Q(Rocio.root,\"K\").to(\"degC\")\n",
    "\n",
    "display(Burbuja,Rocio)\n"
   ]
  },
  {
   "cell_type": "code",
   "execution_count": 243,
   "metadata": {},
   "outputs": [],
   "source": [
    "x=np.linspace(0.01,0.99,100)\n",
    "PresionSistema=Q(10,\"atm\")\n",
    "Rocios=np.array([])\n",
    "Burbujas=np.array([])\n",
    "\n",
    "\n",
    "for i in x:\n",
    "    composiciones=[1-i,i]\n",
    "    Inicial=(composiciones,PresionSistema)\n",
    "    Burbuja=scipy.optimize.root_scalar(Funcion_Caracteristica_Burbuja,Inicial,bracket=[1,1000])\n",
    "    Burbuja= Q(Burbuja.root,\"K\").to(\"degC\")\n",
    "    Burbujas=np.append(Burbujas,Burbuja.magnitude)\n",
    "    Rocio= scipy.optimize.root_scalar(Funcion_Caracteristica_Rocio,Inicial,bracket=[1,1000])\n",
    "    Rocio=Q(Rocio.root,\"K\").to(\"degC\")\n",
    "    Rocios=np.append(Rocios,Rocio.magnitude)\n",
    "    \n",
    "  \n",
    "\n",
    "\n",
    "\n"
   ]
  },
  {
   "cell_type": "code",
   "execution_count": null,
   "metadata": {},
   "outputs": [],
   "source": []
  }
 ],
 "metadata": {
  "kernelspec": {
   "display_name": "Python 3",
   "language": "python",
   "name": "python3"
  },
  "language_info": {
   "codemirror_mode": {
    "name": "ipython",
    "version": 3
   },
   "file_extension": ".py",
   "mimetype": "text/x-python",
   "name": "python",
   "nbconvert_exporter": "python",
   "pygments_lexer": "ipython3",
   "version": "3.7.3"
  }
 },
 "nbformat": 4,
 "nbformat_minor": 4
}
