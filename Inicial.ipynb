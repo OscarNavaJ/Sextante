{
 "cells": [
  {
   "cell_type": "code",
   "execution_count": 1,
   "metadata": {},
   "outputs": [],
   "source": [
    "\n",
    "import sympy as sp\n",
    "import numpy as np\n",
    "import pandas as pd\n",
    "import pint\n",
    "u = pint.UnitRegistry()\n",
    "Q= u.Quantity\n",
    "import scipy.constants as cnst\n",
    "import scipy\n",
    "\n",
    "from matplotlib import pyplot as plt \n",
    "from sympy.interactive import printing\n",
    "sp.init_printing(use_latex=True) # doctest: +SKIP\n",
    "\n",
    "from IPython.display import HTML\n",
    "from iapws import IAPWS97"
   ]
  },
  {
   "cell_type": "code",
   "execution_count": null,
   "metadata": {},
   "outputs": [],
   "source": [
    "\"Prueba 1 Codificacion en GIthub por Oscar N\""
   ]
  }
 ],
 "metadata": {
  "kernelspec": {
   "display_name": "Python 3",
   "language": "python",
   "name": "python3"
  },
  "language_info": {
   "codemirror_mode": {
    "name": "ipython",
    "version": 3
   },
   "file_extension": ".py",
   "mimetype": "text/x-python",
   "name": "python",
   "nbconvert_exporter": "python",
   "pygments_lexer": "ipython3",
   "version": "3.7.3"
  }
 },
 "nbformat": 4,
 "nbformat_minor": 4
}
