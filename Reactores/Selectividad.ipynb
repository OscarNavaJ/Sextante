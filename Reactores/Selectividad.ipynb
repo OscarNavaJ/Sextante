{
 "cells": [
  {
   "cell_type": "markdown",
   "metadata": {},
   "source": [
    "# Librería"
   ]
  },
  {
   "cell_type": "code",
   "execution_count": 1,
   "metadata": {},
   "outputs": [
    {
     "ename": "ModuleNotFoundError",
     "evalue": "No module named 'libreria'",
     "output_type": "error",
     "traceback": [
      "\u001b[1;31m---------------------------------------------------------------------------\u001b[0m",
      "\u001b[1;31mModuleNotFoundError\u001b[0m                       Traceback (most recent call last)",
      "\u001b[1;32m<ipython-input-1-7d9da4eaf3c2>\u001b[0m in \u001b[0;36m<module>\u001b[1;34m\u001b[0m\n\u001b[0;32m     16\u001b[0m \u001b[1;31m#from iapws import IAPWS97\u001b[0m\u001b[1;33m\u001b[0m\u001b[1;33m\u001b[0m\u001b[1;33m\u001b[0m\u001b[0m\n\u001b[0;32m     17\u001b[0m \u001b[1;33m\u001b[0m\u001b[0m\n\u001b[1;32m---> 18\u001b[1;33m \u001b[1;32mfrom\u001b[0m \u001b[0mlibreria\u001b[0m\u001b[1;33m.\u001b[0m\u001b[0mFunciones\u001b[0m \u001b[1;32mimport\u001b[0m \u001b[1;33m*\u001b[0m\u001b[1;33m\u001b[0m\u001b[1;33m\u001b[0m\u001b[0m\n\u001b[0m",
      "\u001b[1;31mModuleNotFoundError\u001b[0m: No module named 'libreria'"
     ]
    }
   ],
   "source": [
    "\n",
    "import sympy as sp\n",
    "import numpy as np\n",
    "import pandas as pd\n",
    "import pint\n",
    "u = pint.UnitRegistry()\n",
    "Q= u.Quantity\n",
    "import scipy.constants as cnst\n",
    "from scipy import optimize\n",
    "import scipy\n",
    "\n",
    "from matplotlib import pyplot as plt \n",
    "from sympy.interactive import printing\n",
    "sp.init_printing(use_latex=True) # doctest: +SKIP\n",
    "\n",
    "from IPython.display import HTML\n",
    "#from iapws import IAPWS97\n",
    "\n",
    "from libreria.Funciones import *"
   ]
  },
  {
   "cell_type": "markdown",
   "metadata": {},
   "source": [
    "# Selectividad"
   ]
  },
  {
   "cell_type": "code",
   "execution_count": 2,
   "metadata": {},
   "outputs": [
    {
     "data": {
      "image/png": "[encoded data removed]",
      "text/plain": [
       "<Figure size 432x288 with 1 Axes>"
      ]
     },
     "metadata": {
      "needs_background": "light"
     },
     "output_type": "display_data"
    },
    {
     "name": "stdout",
     "output_type": "stream",
     "text": [
      "Optimization terminated successfully.\n",
      "         Current function value: -0.838525\n",
      "         Iterations: 19\n",
      "         Function evaluations: 38\n"
     ]
    },
    {
     "data": {
      "text/plain": [
       "(array([0.1118125]), -0.8385254887844285, 19, 38, 0)"
      ]
     },
     "execution_count": 2,
     "metadata": {},
     "output_type": "execute_result"
    }
   ],
   "source": [
    "T= np.linspace(300,650,500)\n",
    "Ca= np.linspace(0.01,0.5,100)\n",
    "\n",
    "\n",
    "def Arrhenius(Ao,Ea,alpha):\n",
    "    return lambda Te: Ao*np.exp(Ea*(1/300-1/Te))*C**alpha\n",
    "\n",
    "def r(k,alpha):\n",
    "    return lambda C: k*C**alpha\n",
    "\n",
    "def func_caracteristica(Ca):\n",
    "    return rq(Ca)/(rus(Ca)+rd(Ca))\n",
    "\n",
    "rd = Arrhenius(0.0001,10000,0)\n",
    "rq = Arrhenius(0.0015,15000,1)\n",
    "ru = Arrhenius(0.008,20000,2)\n",
    "\n",
    "rd = r(0.0001,0)\n",
    "rq = r(0.0015,1)\n",
    "ru =  r(0.008,2)\n",
    "\n",
    "\n",
    "rds= np.vectorize(rd)\n",
    "rqs= np.vectorize(rq)\n",
    "rus= np.vectorize(ru)\n",
    "\n",
    "\n",
    "\n",
    "\n",
    "#plt.plot(Ca,np.log(rds(Ca)),label=\"Undesired\")\n",
    "#plt.plot(Ca,np.log(rqs(Ca)),label=\"Desired\")\n",
    "#plt.plot(Ca,np.log(rus(Ca)),label=\"Undesired\")\n",
    "plt.plot(Ca,rq(Ca)/(rus(Ca)+rd(Ca)),label=\"Undesired\")\n",
    "\n",
    "plt.legend()\n",
    "plt.show()\n",
    "\n",
    "\n",
    "sol=scipy.optimize.fmin(lambda x: -func_caracteristica(x), 0,full_output=1)\n",
    "sol\n"
   ]
  },
  {
   "cell_type": "code",
   "execution_count": null,
   "metadata": {},
   "outputs": [],
   "source": []
  }
 ],
 "metadata": {
  "kernelspec": {
   "display_name": "Python 3",
   "language": "python",
   "name": "python3"
  },
  "language_info": {
   "codemirror_mode": {
    "name": "ipython",
    "version": 3
   },
   "file_extension": ".py",
   "mimetype": "text/x-python",
   "name": "python",
   "nbconvert_exporter": "python",
   "pygments_lexer": "ipython3",
   "version": "3.7.3"
  }
 },
 "nbformat": 4,
 "nbformat_minor": 4
}
